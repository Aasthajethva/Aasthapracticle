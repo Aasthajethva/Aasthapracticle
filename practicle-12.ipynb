{
 "cells": [
  {
   "cell_type": "markdown",
   "id": "511b82b4",
   "metadata": {
    "_cell_guid": "b1076dfc-b9ad-4769-8c92-a6c4dae69d19",
    "_uuid": "8f2839f25d086af736a60e9eeb907d3b93b6e0e5",
    "papermill": {
     "duration": 0.001989,
     "end_time": "2023-11-06T02:58:16.606006",
     "exception": false,
     "start_time": "2023-11-06T02:58:16.604017",
     "status": "completed"
    },
    "tags": []
   },
   "source": [
    "\n",
    "\n",
    "# name:jethva aastha\n",
    "# enrollment no:216270307089\n",
    "\n",
    "\n"
   ]
  },
  {
   "cell_type": "code",
   "execution_count": 1,
   "id": "550e4ca3",
   "metadata": {
    "execution": {
     "iopub.execute_input": "2023-11-06T02:58:16.610638Z",
     "iopub.status.busy": "2023-11-06T02:58:16.610277Z",
     "iopub.status.idle": "2023-11-06T02:58:18.286498Z",
     "shell.execute_reply": "2023-11-06T02:58:18.285829Z"
    },
    "papermill": {
     "duration": 1.680771,
     "end_time": "2023-11-06T02:58:18.288438",
     "exception": false,
     "start_time": "2023-11-06T02:58:16.607667",
     "status": "completed"
    },
    "tags": []
   },
   "outputs": [
    {
     "name": "stdout",
     "output_type": "stream",
     "text": [
      "Keys: Index(['age', 'sex', 'bmi', 'bp', 's1', 's2', 's3', 's4', 's5', 's6',\n",
      "       'target'],\n",
      "      dtype='object')\n",
      "\n",
      "Number of Rows: 442\n",
      "Number of columns: 11\n",
      "\n",
      "Feature Names: Index(['age', 'sex', 'bmi', 'bp', 's1', 's2', 's3', 's4', 's5', 's6',\n",
      "       'target'],\n",
      "      dtype='object')\n",
      "\n",
      "description:                 age           sex           bmi            bp            s1  \\\n",
      "count  4.420000e+02  4.420000e+02  4.420000e+02  4.420000e+02  4.420000e+02   \n",
      "mean  -2.511817e-19  1.230790e-17 -2.245564e-16 -4.797570e-17 -1.381499e-17   \n",
      "std    4.761905e-02  4.761905e-02  4.761905e-02  4.761905e-02  4.761905e-02   \n",
      "min   -1.072256e-01 -4.464164e-02 -9.027530e-02 -1.123988e-01 -1.267807e-01   \n",
      "25%   -3.729927e-02 -4.464164e-02 -3.422907e-02 -3.665608e-02 -3.424784e-02   \n",
      "50%    5.383060e-03 -4.464164e-02 -7.283766e-03 -5.670422e-03 -4.320866e-03   \n",
      "75%    3.807591e-02  5.068012e-02  3.124802e-02  3.564379e-02  2.835801e-02   \n",
      "max    1.107267e-01  5.068012e-02  1.705552e-01  1.320436e-01  1.539137e-01   \n",
      "\n",
      "                 s2            s3            s4            s5            s6  \\\n",
      "count  4.420000e+02  4.420000e+02  4.420000e+02  4.420000e+02  4.420000e+02   \n",
      "mean   3.918434e-17 -5.777179e-18 -9.042540e-18  9.293722e-17  1.130318e-17   \n",
      "std    4.761905e-02  4.761905e-02  4.761905e-02  4.761905e-02  4.761905e-02   \n",
      "min   -1.156131e-01 -1.023071e-01 -7.639450e-02 -1.260971e-01 -1.377672e-01   \n",
      "25%   -3.035840e-02 -3.511716e-02 -3.949338e-02 -3.324559e-02 -3.317903e-02   \n",
      "50%   -3.819065e-03 -6.584468e-03 -2.592262e-03 -1.947171e-03 -1.077698e-03   \n",
      "75%    2.984439e-02  2.931150e-02  3.430886e-02  3.243232e-02  2.791705e-02   \n",
      "max    1.987880e-01  1.811791e-01  1.852344e-01  1.335973e-01  1.356118e-01   \n",
      "\n",
      "           target  \n",
      "count  442.000000  \n",
      "mean   152.133484  \n",
      "std     77.093005  \n",
      "min     25.000000  \n",
      "25%     87.000000  \n",
      "50%    140.500000  \n",
      "75%    211.500000  \n",
      "max    346.000000  \n"
     ]
    }
   ],
   "source": [
    "from sklearn.datasets import load_diabetes\n",
    "#load the diabetes dataset\n",
    "diabetes =load_diabetes(as_frame=True)\n",
    "df=diabetes.frame\n",
    "key=df.keys()\n",
    "print(\"Keys:\",key)\n",
    "#Nuber of rows and columns\n",
    "num_rows,num_columns=df.shape\n",
    "print(\"\\nNumber of Rows:\",num_rows)\n",
    "print(\"Number of columns:\",num_columns)\n",
    "#feature names\n",
    "feature_names=df.columns\n",
    "print(\"\\nFeature Names:\",feature_names)\n",
    "#description of the dataset\n",
    "description =df.describe()\n",
    "print(\"\\ndescription:\",description)"
   ]
  },
  {
   "cell_type": "code",
   "execution_count": null,
   "id": "1793c425",
   "metadata": {
    "papermill": {
     "duration": 0.001313,
     "end_time": "2023-11-06T02:58:18.291530",
     "exception": false,
     "start_time": "2023-11-06T02:58:18.290217",
     "status": "completed"
    },
    "tags": []
   },
   "outputs": [],
   "source": []
  },
  {
   "cell_type": "code",
   "execution_count": null,
   "id": "c7f59262",
   "metadata": {
    "papermill": {
     "duration": 0.00125,
     "end_time": "2023-11-06T02:58:18.294230",
     "exception": false,
     "start_time": "2023-11-06T02:58:18.292980",
     "status": "completed"
    },
    "tags": []
   },
   "outputs": [],
   "source": []
  }
 ],
 "metadata": {
  "kernelspec": {
   "display_name": "Python 3",
   "language": "python",
   "name": "python3"
  },
  "language_info": {
   "codemirror_mode": {
    "name": "ipython",
    "version": 3
   },
   "file_extension": ".py",
   "mimetype": "text/x-python",
   "name": "python",
   "nbconvert_exporter": "python",
   "pygments_lexer": "ipython3",
   "version": "3.10.12"
  },
  "papermill": {
   "default_parameters": {},
   "duration": 7.149213,
   "end_time": "2023-11-06T02:58:20.962735",
   "environment_variables": {},
   "exception": null,
   "input_path": "__notebook__.ipynb",
   "output_path": "__notebook__.ipynb",
   "parameters": {},
   "start_time": "2023-11-06T02:58:13.813522",
   "version": "2.4.0"
  }
 },
 "nbformat": 4,
 "nbformat_minor": 5
}
